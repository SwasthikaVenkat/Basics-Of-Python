{
 "cells": [
  {
   "cell_type": "code",
   "execution_count": 4,
   "id": "4b79c8ec",
   "metadata": {},
   "outputs": [
    {
     "name": "stdout",
     "output_type": "stream",
     "text": [
      "true\n"
     ]
    }
   ],
   "source": [
    "x=15\n",
    "if(x==15):\n",
    "   print(\"true\")\n"
   ]
  },
  {
   "cell_type": "code",
   "execution_count": 6,
   "id": "01ef4793",
   "metadata": {},
   "outputs": [
    {
     "name": "stdout",
     "output_type": "stream",
     "text": [
      "false\n"
     ]
    }
   ],
   "source": [
    "x=15\n",
    "if(x>15):\n",
    "   print(\"true\")\n",
    "else:\n",
    "   print(\"false\")"
   ]
  },
  {
   "cell_type": "code",
   "execution_count": 7,
   "id": "7178855c",
   "metadata": {},
   "outputs": [
    {
     "name": "stdout",
     "output_type": "stream",
     "text": [
      "yes\n"
     ]
    }
   ],
   "source": [
    "x=15\n",
    "if(x>15):\n",
    "   print(\"true\")\n",
    "elif(x>15):\n",
    "   print(\"true\")\n",
    "elif(x<20):\n",
    "    print(\"yes\")\n",
    "else:\n",
    "   print(\"false\")"
   ]
  },
  {
   "cell_type": "code",
   "execution_count": 8,
   "id": "69f892b8",
   "metadata": {},
   "outputs": [
    {
     "name": "stdout",
     "output_type": "stream",
     "text": [
      "13 y is greater\n"
     ]
    }
   ],
   "source": [
    "x=10\n",
    "y=13\n",
    "z=2\n",
    "if(x>y):\n",
    "    print(x,\"x is greater\")\n",
    "else:\n",
    "    if(z>y):\n",
    "        print(z,\"z is greater\") \n",
    "    else:\n",
    "        print(y,\"y is greater\")\n",
    "     "
   ]
  },
  {
   "cell_type": "code",
   "execution_count": 19,
   "id": "b4fb5db9",
   "metadata": {},
   "outputs": [
    {
     "name": "stdout",
     "output_type": "stream",
     "text": [
      "add is 120\n"
     ]
    }
   ],
   "source": [
    "num=15\n",
    "add=0\n",
    "i=1\n",
    "while(i<=num):\n",
    "    add=add+i\n",
    "    i=i+1\n",
    "print(\"add is\",add)"
   ]
  },
  {
   "cell_type": "code",
   "execution_count": 3,
   "id": "eb202112",
   "metadata": {},
   "outputs": [
    {
     "name": "stdout",
     "output_type": "stream",
     "text": [
      "addition is 55\n"
     ]
    }
   ],
   "source": [
    "num=range(1,11)\n",
    "add=0\n",
    "for i in num:\n",
    "    add=add+i\n",
    "print(\"addition is\",add)"
   ]
  },
  {
   "cell_type": "code",
   "execution_count": 4,
   "id": "51f95b79",
   "metadata": {},
   "outputs": [
    {
     "name": "stdout",
     "output_type": "stream",
     "text": [
      "S\n",
      "w\n",
      "a\n",
      "s\n",
      "The for loop stopped executing\n"
     ]
    }
   ],
   "source": [
    "text=\"Swasthika\"\n",
    "for letter in text:\n",
    "    if letter==\"t\":\n",
    "        break\n",
    "    print(letter)\n",
    "print(\"The for loop stopped executing\")    "
   ]
  },
  {
   "cell_type": "code",
   "execution_count": 5,
   "id": "8479856f",
   "metadata": {},
   "outputs": [
    {
     "name": "stdout",
     "output_type": "stream",
     "text": [
      "S\n",
      "w\n",
      "a\n",
      "s\n",
      "The loop skipped\n",
      "h\n",
      "i\n",
      "k\n",
      "a\n"
     ]
    }
   ],
   "source": [
    "text=\"Swasthika\"\n",
    "for letter in text:\n",
    "    if letter==\"t\":\n",
    "        print(\"The loop skipped\")\n",
    "        continue\n",
    "    print(letter)\n"
   ]
  },
  {
   "cell_type": "code",
   "execution_count": 6,
   "id": "1a30cc37",
   "metadata": {},
   "outputs": [
    {
     "name": "stdout",
     "output_type": "stream",
     "text": [
      "enter no of levels5\n",
      "1\n",
      "\n",
      "2\n",
      "\n",
      "2\n",
      "\n",
      "3\n",
      "\n",
      "3\n",
      "\n",
      "3\n",
      "\n",
      "4\n",
      "\n",
      "4\n",
      "\n",
      "4\n",
      "\n",
      "4\n",
      "\n",
      "5\n",
      "\n",
      "5\n",
      "\n",
      "5\n",
      "\n",
      "5\n",
      "\n",
      "5\n",
      "\n"
     ]
    }
   ],
   "source": [
    "levels=int(input(\"enter no of levels\"))\n",
    "for level in range(1,levels+1):\n",
    "    for num in range(level):\n",
    "        print(level,end=\"\")\n",
    "        print(\"\\n\")"
   ]
  },
  {
   "cell_type": "code",
   "execution_count": null,
   "id": "3f4e2215",
   "metadata": {},
   "outputs": [],
   "source": []
  }
 ],
 "metadata": {
  "kernelspec": {
   "display_name": "Python 3",
   "language": "python",
   "name": "python3"
  },
  "language_info": {
   "codemirror_mode": {
    "name": "ipython",
    "version": 3
   },
   "file_extension": ".py",
   "mimetype": "text/x-python",
   "name": "python",
   "nbconvert_exporter": "python",
   "pygments_lexer": "ipython3",
   "version": "3.8.8"
  }
 },
 "nbformat": 4,
 "nbformat_minor": 5
}
