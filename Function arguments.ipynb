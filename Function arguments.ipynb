{
 "cells": [
  {
   "cell_type": "markdown",
   "id": "867bb6fa",
   "metadata": {},
   "source": [
    "### Required argument"
   ]
  },
  {
   "cell_type": "code",
   "execution_count": 4,
   "id": "8ec3205e",
   "metadata": {},
   "outputs": [
    {
     "name": "stdout",
     "output_type": "stream",
     "text": [
      "first name : dylan\n",
      "last name: wang\n"
     ]
    }
   ],
   "source": [
    "def name(first,last):\n",
    "    print(\"first name :\",first)\n",
    "    print(\"last name:\",last)\n",
    "first=\"dylan\"\n",
    "last=\"wang\"\n",
    "name(first,last)"
   ]
  },
  {
   "cell_type": "code",
   "execution_count": 6,
   "id": "7580f776",
   "metadata": {},
   "outputs": [
    {
     "ename": "TypeError",
     "evalue": "name() takes 0 positional arguments but 2 were given",
     "output_type": "error",
     "traceback": [
      "\u001b[1;31m---------------------------------------------------------------------------\u001b[0m",
      "\u001b[1;31mTypeError\u001b[0m                                 Traceback (most recent call last)",
      "\u001b[1;32m<ipython-input-6-61f0a3272f6d>\u001b[0m in \u001b[0;36m<module>\u001b[1;34m\u001b[0m\n\u001b[0;32m      4\u001b[0m \u001b[0mfirst\u001b[0m\u001b[1;33m=\u001b[0m\u001b[1;34m\"dylan\"\u001b[0m\u001b[1;33m\u001b[0m\u001b[1;33m\u001b[0m\u001b[0m\n\u001b[0;32m      5\u001b[0m \u001b[0mlast\u001b[0m\u001b[1;33m=\u001b[0m\u001b[1;34m\"wang\"\u001b[0m\u001b[1;33m\u001b[0m\u001b[1;33m\u001b[0m\u001b[0m\n\u001b[1;32m----> 6\u001b[1;33m \u001b[0mname\u001b[0m\u001b[1;33m(\u001b[0m\u001b[0mfirst\u001b[0m\u001b[1;33m,\u001b[0m\u001b[0mlast\u001b[0m\u001b[1;33m)\u001b[0m\u001b[1;33m\u001b[0m\u001b[1;33m\u001b[0m\u001b[0m\n\u001b[0m\u001b[0;32m      7\u001b[0m \u001b[1;31m#no arugment were given\u001b[0m\u001b[1;33m\u001b[0m\u001b[1;33m\u001b[0m\u001b[1;33m\u001b[0m\u001b[0m\n",
      "\u001b[1;31mTypeError\u001b[0m: name() takes 0 positional arguments but 2 were given"
     ]
    }
   ],
   "source": [
    "def name():\n",
    "    print(\"first name :\",first)\n",
    "    print(\"last name:\",last)\n",
    "first=\"dylan\"\n",
    "last=\"wang\"\n",
    "name(first,last)\n",
    "#no arugments were given"
   ]
  },
  {
   "cell_type": "markdown",
   "id": "008fad6c",
   "metadata": {},
   "source": [
    "### keyword argument"
   ]
  },
  {
   "cell_type": "code",
   "execution_count": 9,
   "id": "d8354cdc",
   "metadata": {},
   "outputs": [
    {
     "name": "stdout",
     "output_type": "stream",
     "text": [
      "Dylan Wang\n",
      "Dylan Wang\n"
     ]
    }
   ],
   "source": [
    "def student_name(first,last):\n",
    "    print(first,last)\n",
    "student_name(first=\"Dylan\",last=\"Wang\")\n",
    "student_name(last=\"Wang\",first=\"Dylan\")"
   ]
  },
  {
   "cell_type": "markdown",
   "id": "b8d955c1",
   "metadata": {},
   "source": [
    "### Default Argument\n"
   ]
  },
  {
   "cell_type": "code",
   "execution_count": 13,
   "id": "6c2d50bd",
   "metadata": {},
   "outputs": [
    {
     "name": "stdout",
     "output_type": "stream",
     "text": [
      "first _name: Dylan\n",
      "last_name: wang\n"
     ]
    }
   ],
   "source": [
    "def name(first,last=\"wang\"):\n",
    "    print(\"first _name:\",first)\n",
    "    print(\"last_name:\",last)\n",
    "name(\"Dylan\")"
   ]
  },
  {
   "cell_type": "markdown",
   "id": "9e478b3b",
   "metadata": {},
   "source": [
    "### Variable-length argument"
   ]
  },
  {
   "cell_type": "code",
   "execution_count": 21,
   "id": "256b3b54",
   "metadata": {},
   "outputs": [
    {
     "name": "stdout",
     "output_type": "stream",
     "text": [
      "5671122\n"
     ]
    }
   ],
   "source": [
    "def adds(*nums):\n",
    "    add=0\n",
    "    for num in nums:\n",
    "        add=add+num\n",
    "    print(add)    \n",
    "adds(5665468,5654)\n",
    "#Can send any number of arguments"
   ]
  },
  {
   "cell_type": "markdown",
   "id": "58eb2c99",
   "metadata": {},
   "source": [
    "### **kwargs"
   ]
  },
  {
   "cell_type": "code",
   "execution_count": 1,
   "id": "a2c5728c",
   "metadata": {},
   "outputs": [
    {
     "name": "stdout",
     "output_type": "stream",
     "text": [
      "<class 'dict'>\n",
      "name --> dylan wang\n",
      "dept --> IT\n"
     ]
    }
   ],
   "source": [
    "def student(**data):\n",
    "    print(type(data))\n",
    "    for k,v in data.items():\n",
    "        print(k,\"-->\",v)\n",
    "student(name=\"dylan wang\",dept=\"IT\")        "
   ]
  },
  {
   "cell_type": "code",
   "execution_count": null,
   "id": "d7ff4c3f",
   "metadata": {},
   "outputs": [],
   "source": []
  },
  {
   "cell_type": "code",
   "execution_count": null,
   "id": "36909957",
   "metadata": {},
   "outputs": [],
   "source": []
  }
 ],
 "metadata": {
  "kernelspec": {
   "display_name": "Python 3",
   "language": "python",
   "name": "python3"
  },
  "language_info": {
   "codemirror_mode": {
    "name": "ipython",
    "version": 3
   },
   "file_extension": ".py",
   "mimetype": "text/x-python",
   "name": "python",
   "nbconvert_exporter": "python",
   "pygments_lexer": "ipython3",
   "version": "3.8.8"
  }
 },
 "nbformat": 4,
 "nbformat_minor": 5
}
