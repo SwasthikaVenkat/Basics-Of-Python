{
 "cells": [
  {
   "cell_type": "code",
   "execution_count": 12,
   "id": "58ae60e2",
   "metadata": {},
   "outputs": [
    {
     "name": "stdout",
     "output_type": "stream",
     "text": [
      "enter the value7\n",
      "enter8\n"
     ]
    },
    {
     "data": {
      "text/plain": [
       "28.0"
      ]
     },
     "execution_count": 12,
     "metadata": {},
     "output_type": "execute_result"
    }
   ],
   "source": [
    "def areaoftriangle(base,ht):\n",
    " return(0.5*base*ht)\n",
    "base=int(input(\"enter the value\"))\n",
    "ht=int(input(\"enter\"))\n",
    "areaoftriangle(base,ht)"
   ]
  },
  {
   "cell_type": "code",
   "execution_count": 8,
   "id": "a07dd312",
   "metadata": {},
   "outputs": [
    {
     "name": "stdout",
     "output_type": "stream",
     "text": [
      "hello\n"
     ]
    }
   ],
   "source": [
    "def greet():\n",
    "  print('hello')\n",
    "greet()    "
   ]
  },
  {
   "cell_type": "code",
   "execution_count": 25,
   "id": "4e2d3a27",
   "metadata": {
    "scrolled": true
   },
   "outputs": [
    {
     "name": "stdout",
     "output_type": "stream",
     "text": [
      "first arg 5\n",
      "second arg 9\n"
     ]
    }
   ],
   "source": [
    "def reg(num1,num2):\n",
    "    print(\"first arg\",num1)\n",
    "    print(\"second arg\",num2)\n",
    "num1=5\n",
    "num2=9\n",
    "reg(num1,num2)"
   ]
  },
  {
   "cell_type": "code",
   "execution_count": 34,
   "id": "2c61897e",
   "metadata": {},
   "outputs": [
    {
     "name": "stdout",
     "output_type": "stream",
     "text": [
      "enterswas\n"
     ]
    },
    {
     "ename": "TypeError",
     "evalue": "greet() takes 0 positional arguments but 1 was given",
     "output_type": "error",
     "traceback": [
      "\u001b[1;31m---------------------------------------------------------------------------\u001b[0m",
      "\u001b[1;31mTypeError\u001b[0m                                 Traceback (most recent call last)",
      "\u001b[1;32m<ipython-input-34-b55678c1cd06>\u001b[0m in \u001b[0;36m<module>\u001b[1;34m\u001b[0m\n\u001b[0;32m      2\u001b[0m     \u001b[0mprint\u001b[0m\u001b[1;33m(\u001b[0m\u001b[1;34m\"hello\"\u001b[0m\u001b[1;33m)\u001b[0m\u001b[1;33m\u001b[0m\u001b[1;33m\u001b[0m\u001b[0m\n\u001b[0;32m      3\u001b[0m \u001b[0mname\u001b[0m\u001b[1;33m=\u001b[0m\u001b[0minput\u001b[0m\u001b[1;33m(\u001b[0m\u001b[1;34m\"enter\"\u001b[0m\u001b[1;33m)\u001b[0m\u001b[1;33m\u001b[0m\u001b[1;33m\u001b[0m\u001b[0m\n\u001b[1;32m----> 4\u001b[1;33m \u001b[0mgreet\u001b[0m\u001b[1;33m(\u001b[0m\u001b[0mname\u001b[0m\u001b[1;33m)\u001b[0m\u001b[1;33m\u001b[0m\u001b[1;33m\u001b[0m\u001b[0m\n\u001b[0m\u001b[0;32m      5\u001b[0m \u001b[1;33m\u001b[0m\u001b[0m\n",
      "\u001b[1;31mTypeError\u001b[0m: greet() takes 0 positional arguments but 1 was given"
     ]
    }
   ],
   "source": [
    "def greet():\n",
    "    print(\"hello\")\n",
    "name=input(\"enter\")\n",
    "greet(name)\n",
    "\n"
   ]
  },
  {
   "cell_type": "markdown",
   "id": "0525b7eb",
   "metadata": {},
   "source": [
    "## lambda"
   ]
  },
  {
   "cell_type": "code",
   "execution_count": 28,
   "id": "403881d5",
   "metadata": {},
   "outputs": [
    {
     "data": {
      "text/plain": [
       "[0, 1, 4, 9, 16, 25, 36, 49, 64]"
      ]
     },
     "execution_count": 28,
     "metadata": {},
     "output_type": "execute_result"
    }
   ],
   "source": [
    "n_list=list(range(0,9))\n",
    "sqlist=list(map(lambda x: x**2, n_list))\n",
    "sqlist"
   ]
  },
  {
   "cell_type": "code",
   "execution_count": 30,
   "id": "d2941cd0",
   "metadata": {},
   "outputs": [
    {
     "data": {
      "text/plain": [
       "[4, 8]"
      ]
     },
     "execution_count": 30,
     "metadata": {},
     "output_type": "execute_result"
    }
   ],
   "source": [
    "n_list=list(range(1,11))\n",
    "sqlist=list(filter(lambda x: x%4==0, n_list))\n",
    "sqlist"
   ]
  },
  {
   "cell_type": "code",
   "execution_count": 31,
   "id": "e028c8bf",
   "metadata": {},
   "outputs": [
    {
     "data": {
      "text/plain": [
       "720"
      ]
     },
     "execution_count": 31,
     "metadata": {},
     "output_type": "execute_result"
    }
   ],
   "source": [
    "from functools import reduce\n",
    "n=[1,2,3,4,5,6]\n",
    "reduce(lambda a,b: a*b, n)\n"
   ]
  },
  {
   "cell_type": "code",
   "execution_count": 33,
   "id": "7d364713",
   "metadata": {},
   "outputs": [
    {
     "data": {
      "text/plain": [
       "87"
      ]
     },
     "execution_count": 33,
     "metadata": {},
     "output_type": "execute_result"
    }
   ],
   "source": [
    "from functools import reduce\n",
    "n=(0,-3,67,87)\n",
    "reduce(lambda x,y: x if (x>y) else y, n)"
   ]
  },
  {
   "cell_type": "code",
   "execution_count": null,
   "id": "27976e41",
   "metadata": {},
   "outputs": [],
   "source": []
  }
 ],
 "metadata": {
  "kernelspec": {
   "display_name": "Python 3",
   "language": "python",
   "name": "python3"
  },
  "language_info": {
   "codemirror_mode": {
    "name": "ipython",
    "version": 3
   },
   "file_extension": ".py",
   "mimetype": "text/x-python",
   "name": "python",
   "nbconvert_exporter": "python",
   "pygments_lexer": "ipython3",
   "version": "3.8.8"
  }
 },
 "nbformat": 4,
 "nbformat_minor": 5
}
