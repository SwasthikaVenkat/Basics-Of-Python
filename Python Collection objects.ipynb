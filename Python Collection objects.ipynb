{
 "cells": [
  {
   "cell_type": "markdown",
   "id": "69314f37",
   "metadata": {},
   "source": [
    "## strings"
   ]
  },
  {
   "cell_type": "code",
   "execution_count": 1,
   "id": "e02a7e68",
   "metadata": {},
   "outputs": [
    {
     "data": {
      "text/plain": [
       "'swas'"
      ]
     },
     "execution_count": 1,
     "metadata": {},
     "output_type": "execute_result"
    }
   ],
   "source": [
    "name=\"swas\"\n",
    "name"
   ]
  },
  {
   "cell_type": "code",
   "execution_count": 2,
   "id": "a7b06895",
   "metadata": {},
   "outputs": [
    {
     "data": {
      "text/plain": [
       "'I'"
      ]
     },
     "execution_count": 2,
     "metadata": {},
     "output_type": "execute_result"
    }
   ],
   "source": [
    "text=\"I love python\"\n",
    "text[0]\n"
   ]
  },
  {
   "cell_type": "code",
   "execution_count": 3,
   "id": "9b575b38",
   "metadata": {},
   "outputs": [
    {
     "data": {
      "text/plain": [
       "'love python'"
      ]
     },
     "execution_count": 3,
     "metadata": {},
     "output_type": "execute_result"
    }
   ],
   "source": [
    "text=\"I love python\"\n",
    "text[2:]\n"
   ]
  },
  {
   "cell_type": "code",
   "execution_count": 4,
   "id": "6b75b58d",
   "metadata": {},
   "outputs": [
    {
     "data": {
      "text/plain": [
       "'I l'"
      ]
     },
     "execution_count": 4,
     "metadata": {},
     "output_type": "execute_result"
    }
   ],
   "source": [
    "text=\"I love python\"\n",
    "text[0:3]\n"
   ]
  },
  {
   "cell_type": "code",
   "execution_count": 5,
   "id": "e031327f",
   "metadata": {},
   "outputs": [
    {
     "data": {
      "text/plain": [
       "'I love python'"
      ]
     },
     "execution_count": 5,
     "metadata": {},
     "output_type": "execute_result"
    }
   ],
   "source": [
    "text=\"I love python\"\n",
    "text[0:13]\n"
   ]
  },
  {
   "cell_type": "code",
   "execution_count": 6,
   "id": "0231f562",
   "metadata": {},
   "outputs": [
    {
     "data": {
      "text/plain": [
       "'nohtyp evol I'"
      ]
     },
     "execution_count": 6,
     "metadata": {},
     "output_type": "execute_result"
    }
   ],
   "source": [
    "text=\"I love python\"\n",
    "text[::-1]\n"
   ]
  },
  {
   "cell_type": "markdown",
   "id": "551a6f5f",
   "metadata": {},
   "source": [
    "## string handling"
   ]
  },
  {
   "cell_type": "code",
   "execution_count": 7,
   "id": "e2fa3282",
   "metadata": {},
   "outputs": [
    {
     "data": {
      "text/plain": [
       "'I love data science'"
      ]
     },
     "execution_count": 7,
     "metadata": {},
     "output_type": "execute_result"
    }
   ],
   "source": [
    "text=\"I love python\"\n",
    "text.replace(\"python\",\"data science\")"
   ]
  },
  {
   "cell_type": "code",
   "execution_count": 8,
   "id": "4b07ee0c",
   "metadata": {},
   "outputs": [
    {
     "data": {
      "text/plain": [
       "<function str.upper()>"
      ]
     },
     "execution_count": 8,
     "metadata": {},
     "output_type": "execute_result"
    }
   ],
   "source": [
    "text.upper"
   ]
  },
  {
   "cell_type": "code",
   "execution_count": 9,
   "id": "58fe29e6",
   "metadata": {},
   "outputs": [
    {
     "data": {
      "text/plain": [
       "'I LOVE PYTHON'"
      ]
     },
     "execution_count": 9,
     "metadata": {},
     "output_type": "execute_result"
    }
   ],
   "source": [
    "text=\"I love python\"\n",
    "text.upper()"
   ]
  },
  {
   "cell_type": "code",
   "execution_count": 10,
   "id": "181bfb38",
   "metadata": {},
   "outputs": [
    {
     "data": {
      "text/plain": [
       "'i love python'"
      ]
     },
     "execution_count": 10,
     "metadata": {},
     "output_type": "execute_result"
    }
   ],
   "source": [
    "text=\"I love python\"\n",
    "text.lower()"
   ]
  },
  {
   "cell_type": "code",
   "execution_count": 11,
   "id": "e7db796d",
   "metadata": {},
   "outputs": [
    {
     "data": {
      "text/plain": [
       "'I Love Python'"
      ]
     },
     "execution_count": 11,
     "metadata": {},
     "output_type": "execute_result"
    }
   ],
   "source": [
    "text=\"I love python\"\n",
    "text.title()"
   ]
  },
  {
   "cell_type": "code",
   "execution_count": 12,
   "id": "7e0fac37",
   "metadata": {},
   "outputs": [
    {
     "data": {
      "text/plain": [
       "'9-10-2021'"
      ]
     },
     "execution_count": 12,
     "metadata": {},
     "output_type": "execute_result"
    }
   ],
   "source": [
    "date=\"9\",\"10\",\"2021\"\n",
    "sep='-'\n",
    "sep.join(date)"
   ]
  },
  {
   "cell_type": "code",
   "execution_count": 13,
   "id": "9ae0e150",
   "metadata": {},
   "outputs": [
    {
     "data": {
      "text/plain": [
       "'I**love***python'"
      ]
     },
     "execution_count": 13,
     "metadata": {},
     "output_type": "execute_result"
    }
   ],
   "source": [
    "text=\"***I**love***python*\"\n",
    "text.strip(\"*\")\n"
   ]
  },
  {
   "cell_type": "markdown",
   "id": "dd9882fc",
   "metadata": {},
   "source": [
    "## list"
   ]
  },
  {
   "cell_type": "code",
   "execution_count": 15,
   "id": "f7870ab7",
   "metadata": {},
   "outputs": [
    {
     "name": "stdout",
     "output_type": "stream",
     "text": [
      "['apple', 'orange', 'grapes']\n"
     ]
    },
    {
     "data": {
      "text/plain": [
       "list"
      ]
     },
     "execution_count": 15,
     "metadata": {},
     "output_type": "execute_result"
    }
   ],
   "source": [
    "fruits=[\"apple\",\"orange\",\"grapes\"]\n",
    "print(fruits)\n",
    "type(fruits)"
   ]
  },
  {
   "cell_type": "code",
   "execution_count": 16,
   "id": "0e31e72b",
   "metadata": {},
   "outputs": [
    {
     "data": {
      "text/plain": [
       "['apple', 'orange', 'grapes', 'cabbage', 'raddish', 'carrot']"
      ]
     },
     "execution_count": 16,
     "metadata": {},
     "output_type": "execute_result"
    }
   ],
   "source": [
    "fruits=[\"apple\",\"orange\",\"grapes\"]\n",
    "vegies=[\"cabbage\",\"raddish\",\"carrot\"]\n",
    "shop=fruits+vegies\n",
    "shop"
   ]
  },
  {
   "cell_type": "code",
   "execution_count": 17,
   "id": "7a4eeef9",
   "metadata": {},
   "outputs": [
    {
     "data": {
      "text/plain": [
       "['cabbage', 'raddish', 'carrot', 'potato']"
      ]
     },
     "execution_count": 17,
     "metadata": {},
     "output_type": "execute_result"
    }
   ],
   "source": [
    "vegies=[\"cabbage\",\"raddish\",\"carrot\"]\n",
    "vegies.append(\"potato\")\n",
    "vegies"
   ]
  },
  {
   "cell_type": "code",
   "execution_count": 19,
   "id": "d9a86dbe",
   "metadata": {},
   "outputs": [
    {
     "data": {
      "text/plain": [
       "[12, 21, 34, 56]"
      ]
     },
     "execution_count": 19,
     "metadata": {},
     "output_type": "execute_result"
    }
   ],
   "source": [
    "price=[12,56,34,21]\n",
    "price.sort()\n",
    "price"
   ]
  },
  {
   "cell_type": "code",
   "execution_count": 20,
   "id": "449ec349",
   "metadata": {},
   "outputs": [
    {
     "data": {
      "text/plain": [
       "['cabbage', 'carrot', 'raddish']"
      ]
     },
     "execution_count": 20,
     "metadata": {},
     "output_type": "execute_result"
    }
   ],
   "source": [
    "vegies=[\"cabbage\",\"raddish\",\"carrot\"]\n",
    "vegies.sort()\n",
    "vegies"
   ]
  },
  {
   "cell_type": "code",
   "execution_count": 21,
   "id": "fcb6b3b1",
   "metadata": {},
   "outputs": [
    {
     "data": {
      "text/plain": [
       "['cabbage', 'carrot', 'raddish']"
      ]
     },
     "execution_count": 21,
     "metadata": {},
     "output_type": "execute_result"
    }
   ],
   "source": [
    "vegies=[\"cabbage\",\"raddish\",\"carrot\"]\n",
    "vegies=sorted(vegies)\n",
    "vegies"
   ]
  },
  {
   "cell_type": "code",
   "execution_count": 22,
   "id": "b6bd9dd3",
   "metadata": {},
   "outputs": [
    {
     "data": {
      "text/plain": [
       "True"
      ]
     },
     "execution_count": 22,
     "metadata": {},
     "output_type": "execute_result"
    }
   ],
   "source": [
    "vegies=[\"cabbage\",\"raddish\",\"carrot\"]\n",
    "\"cabbage\" in vegies"
   ]
  },
  {
   "cell_type": "code",
   "execution_count": 23,
   "id": "02c3f103",
   "metadata": {},
   "outputs": [
    {
     "data": {
      "text/plain": [
       "True"
      ]
     },
     "execution_count": 23,
     "metadata": {},
     "output_type": "execute_result"
    }
   ],
   "source": [
    "vegies=[\"cabbage\",\"raddish\",\"carrot\"]\n",
    "\"potato\" not in vegies"
   ]
  },
  {
   "cell_type": "code",
   "execution_count": 24,
   "id": "1d9244aa",
   "metadata": {},
   "outputs": [
    {
     "name": "stdout",
     "output_type": "stream",
     "text": [
      "cabbage\n",
      "raddish\n",
      "carrot\n"
     ]
    }
   ],
   "source": [
    "vegies=[\"cabbage\",\"raddish\",\"carrot\"]\n",
    "for veg in vegies:\n",
    "    print(veg)"
   ]
  },
  {
   "cell_type": "code",
   "execution_count": 25,
   "id": "3d11fa68",
   "metadata": {},
   "outputs": [
    {
     "data": {
      "text/plain": [
       "4"
      ]
     },
     "execution_count": 25,
     "metadata": {},
     "output_type": "execute_result"
    }
   ],
   "source": [
    "price=[12,56,34,21]\n",
    "len(price)"
   ]
  },
  {
   "cell_type": "code",
   "execution_count": 26,
   "id": "8e394220",
   "metadata": {},
   "outputs": [
    {
     "data": {
      "text/plain": [
       "56"
      ]
     },
     "execution_count": 26,
     "metadata": {},
     "output_type": "execute_result"
    }
   ],
   "source": [
    "price=[12,56,34,21]\n",
    "max(price)"
   ]
  },
  {
   "cell_type": "code",
   "execution_count": 27,
   "id": "ce7be4f7",
   "metadata": {},
   "outputs": [
    {
     "data": {
      "text/plain": [
       "12"
      ]
     },
     "execution_count": 27,
     "metadata": {},
     "output_type": "execute_result"
    }
   ],
   "source": [
    "min(price)"
   ]
  },
  {
   "cell_type": "code",
   "execution_count": 28,
   "id": "21e9e1f1",
   "metadata": {},
   "outputs": [
    {
     "data": {
      "text/plain": [
       "[12, 56, 34, 21]"
      ]
     },
     "execution_count": 28,
     "metadata": {},
     "output_type": "execute_result"
    }
   ],
   "source": [
    "price"
   ]
  },
  {
   "cell_type": "code",
   "execution_count": 29,
   "id": "c2d7a315",
   "metadata": {},
   "outputs": [],
   "source": [
    "price.clear()"
   ]
  },
  {
   "cell_type": "code",
   "execution_count": 30,
   "id": "49ebf04c",
   "metadata": {},
   "outputs": [
    {
     "data": {
      "text/plain": [
       "[]"
      ]
     },
     "execution_count": 30,
     "metadata": {},
     "output_type": "execute_result"
    }
   ],
   "source": [
    "price"
   ]
  },
  {
   "cell_type": "code",
   "execution_count": 31,
   "id": "8ed23b24",
   "metadata": {},
   "outputs": [],
   "source": [
    "price.append(23)"
   ]
  },
  {
   "cell_type": "code",
   "execution_count": 32,
   "id": "7d7bab87",
   "metadata": {},
   "outputs": [
    {
     "data": {
      "text/plain": [
       "[23]"
      ]
     },
     "execution_count": 32,
     "metadata": {},
     "output_type": "execute_result"
    }
   ],
   "source": [
    "price"
   ]
  },
  {
   "cell_type": "code",
   "execution_count": 33,
   "id": "3faabd53",
   "metadata": {},
   "outputs": [
    {
     "data": {
      "text/plain": [
       "[12, 56, 34, 21]"
      ]
     },
     "execution_count": 33,
     "metadata": {},
     "output_type": "execute_result"
    }
   ],
   "source": [
    "price=[12,56,34,21]\n",
    "new_price=price.copy()\n",
    "new_price"
   ]
  },
  {
   "cell_type": "code",
   "execution_count": 36,
   "id": "4b5c5cd7",
   "metadata": {},
   "outputs": [
    {
     "data": {
      "text/plain": [
       "2"
      ]
     },
     "execution_count": 36,
     "metadata": {},
     "output_type": "execute_result"
    }
   ],
   "source": [
    "price=[12,56,34,21,21]\n",
    "price.count(21)"
   ]
  },
  {
   "cell_type": "code",
   "execution_count": 38,
   "id": "7bfe2521",
   "metadata": {},
   "outputs": [
    {
     "data": {
      "text/plain": [
       "[12, 56, 34, 21, 'cabbage', 'raddish', 'carrot']"
      ]
     },
     "execution_count": 38,
     "metadata": {},
     "output_type": "execute_result"
    }
   ],
   "source": [
    "price=[12,56,34,21]\n",
    "vegies=[\"cabbage\",\"raddish\",\"carrot\"]\n",
    "price.extend(vegies)\n",
    "price"
   ]
  },
  {
   "cell_type": "code",
   "execution_count": 41,
   "id": "b559e2f1",
   "metadata": {},
   "outputs": [
    {
     "data": {
      "text/plain": [
       "4"
      ]
     },
     "execution_count": 41,
     "metadata": {},
     "output_type": "execute_result"
    }
   ],
   "source": [
    "price.index(\"cabbage\")"
   ]
  },
  {
   "cell_type": "code",
   "execution_count": 45,
   "id": "658921b7",
   "metadata": {},
   "outputs": [
    {
     "data": {
      "text/plain": [
       "[12,\n",
       " 'hello',\n",
       " 'hello',\n",
       " 'hello',\n",
       " 'hello',\n",
       " 56,\n",
       " 34,\n",
       " 21,\n",
       " 'cabbage',\n",
       " 'raddish',\n",
       " 'carrot']"
      ]
     },
     "execution_count": 45,
     "metadata": {},
     "output_type": "execute_result"
    }
   ],
   "source": [
    "price.insert(1,\"hello\")\n",
    "price"
   ]
  },
  {
   "cell_type": "code",
   "execution_count": 46,
   "id": "295b7589",
   "metadata": {},
   "outputs": [
    {
     "data": {
      "text/plain": [
       "[12, 'hello', 'hello', 'hello', 56, 34, 21, 'cabbage', 'raddish', 'carrot']"
      ]
     },
     "execution_count": 46,
     "metadata": {},
     "output_type": "execute_result"
    }
   ],
   "source": [
    "price.pop(2)\n",
    "price"
   ]
  },
  {
   "cell_type": "code",
   "execution_count": 49,
   "id": "0c78a492",
   "metadata": {},
   "outputs": [
    {
     "data": {
      "text/plain": [
       "[12, 56, 34, 21, 'cabbage', 'raddish', 'carrot']"
      ]
     },
     "execution_count": 49,
     "metadata": {},
     "output_type": "execute_result"
    }
   ],
   "source": [
    "price.remove(\"hello\")\n",
    "price"
   ]
  },
  {
   "cell_type": "code",
   "execution_count": 54,
   "id": "7a38ae69",
   "metadata": {},
   "outputs": [
    {
     "data": {
      "text/plain": [
       "['carrot', 'raddish', 'cabbage', 21, 34, 56, 12]"
      ]
     },
     "execution_count": 54,
     "metadata": {},
     "output_type": "execute_result"
    }
   ],
   "source": [
    "price.reverse()\n",
    "price"
   ]
  },
  {
   "cell_type": "code",
   "execution_count": 55,
   "id": "c1e2aebd",
   "metadata": {},
   "outputs": [
    {
     "data": {
      "text/plain": [
       "['carrot', 'raddish', 'cabbage']"
      ]
     },
     "execution_count": 55,
     "metadata": {},
     "output_type": "execute_result"
    }
   ],
   "source": [
    "vegies=[\"cabbage\",\"raddish\",\"carrot\"]\n",
    "vegies[::-1]"
   ]
  },
  {
   "cell_type": "code",
   "execution_count": 60,
   "id": "6084e757",
   "metadata": {},
   "outputs": [
    {
     "name": "stdout",
     "output_type": "stream",
     "text": [
      "('cabbage', 'raddish', 'carrot')\n"
     ]
    },
    {
     "data": {
      "text/plain": [
       "tuple"
      ]
     },
     "execution_count": 60,
     "metadata": {},
     "output_type": "execute_result"
    }
   ],
   "source": [
    "vegies=\"cabbage\",\"raddish\",\"carrot\"\n",
    "print(vegies)\n",
    "type(vegies)"
   ]
  },
  {
   "cell_type": "code",
   "execution_count": 61,
   "id": "abb3dd4c",
   "metadata": {},
   "outputs": [
    {
     "data": {
      "text/plain": [
       "[12, 21, 34, 56]"
      ]
     },
     "execution_count": 61,
     "metadata": {},
     "output_type": "execute_result"
    }
   ],
   "source": [
    "price=(21,34,56,12)\n",
    "sorted(price)\n"
   ]
  },
  {
   "cell_type": "markdown",
   "id": "76d70def",
   "metadata": {},
   "source": [
    "## tuple"
   ]
  },
  {
   "cell_type": "code",
   "execution_count": 62,
   "id": "fc4680e2",
   "metadata": {},
   "outputs": [
    {
     "data": {
      "text/plain": [
       "('kitkat', 'fuse', 'kitkat', 'fuse', 'kitkat', 'fuse')"
      ]
     },
     "execution_count": 62,
     "metadata": {},
     "output_type": "execute_result"
    }
   ],
   "source": [
    "choci=(\"kitkat\",\"fuse\")\n",
    "n=3\n",
    "total=choci*n\n",
    "total"
   ]
  },
  {
   "cell_type": "code",
   "execution_count": 63,
   "id": "5ba5b92b",
   "metadata": {},
   "outputs": [
    {
     "data": {
      "text/plain": [
       "('kitkat', 'fuse', 21, 34, 56, 12)"
      ]
     },
     "execution_count": 63,
     "metadata": {},
     "output_type": "execute_result"
    }
   ],
   "source": [
    "choci=(\"kitkat\",\"fuse\")\n",
    "price=(21,34,56,12)\n",
    "total=choci+price\n",
    "total"
   ]
  },
  {
   "cell_type": "code",
   "execution_count": 65,
   "id": "cc938316",
   "metadata": {},
   "outputs": [
    {
     "data": {
      "text/plain": [
       "True"
      ]
     },
     "execution_count": 65,
     "metadata": {},
     "output_type": "execute_result"
    }
   ],
   "source": [
    "\"kitkat\" in choci"
   ]
  },
  {
   "cell_type": "code",
   "execution_count": 67,
   "id": "576e560f",
   "metadata": {},
   "outputs": [
    {
     "data": {
      "text/plain": [
       "True"
      ]
     },
     "execution_count": 67,
     "metadata": {},
     "output_type": "execute_result"
    }
   ],
   "source": [
    "\"dairy milk\" not in choci"
   ]
  },
  {
   "cell_type": "code",
   "execution_count": 70,
   "id": "8a573884",
   "metadata": {},
   "outputs": [
    {
     "name": "stdout",
     "output_type": "stream",
     "text": [
      "kitkat\n",
      "fuse\n"
     ]
    }
   ],
   "source": [
    "for every_choci in choci:\n",
    "     print(every_choci)"
   ]
  },
  {
   "cell_type": "code",
   "execution_count": 71,
   "id": "b4843498",
   "metadata": {},
   "outputs": [
    {
     "data": {
      "text/plain": [
       "2"
      ]
     },
     "execution_count": 71,
     "metadata": {},
     "output_type": "execute_result"
    }
   ],
   "source": [
    "choci=(\"kitkat\",\"fuse\")\n",
    "len(choci)"
   ]
  },
  {
   "cell_type": "code",
   "execution_count": 72,
   "id": "4e9046ba",
   "metadata": {},
   "outputs": [
    {
     "data": {
      "text/plain": [
       "56"
      ]
     },
     "execution_count": 72,
     "metadata": {},
     "output_type": "execute_result"
    }
   ],
   "source": [
    "price=(21,34,56,12)\n",
    "max(price)"
   ]
  },
  {
   "cell_type": "code",
   "execution_count": 73,
   "id": "bfc970b7",
   "metadata": {},
   "outputs": [
    {
     "data": {
      "text/plain": [
       "12"
      ]
     },
     "execution_count": 73,
     "metadata": {},
     "output_type": "execute_result"
    }
   ],
   "source": [
    "min(price)"
   ]
  },
  {
   "cell_type": "markdown",
   "id": "6af082ef",
   "metadata": {},
   "source": [
    "## dictionary"
   ]
  },
  {
   "cell_type": "code",
   "execution_count": 2,
   "id": "cb5d4983",
   "metadata": {},
   "outputs": [
    {
     "data": {
      "text/plain": [
       "{'harry potter': 12, 'wings of fire': 5}"
      ]
     },
     "execution_count": 2,
     "metadata": {},
     "output_type": "execute_result"
    }
   ],
   "source": [
    "books={\"harry potter\":12,\"wings of fire\":5}\n",
    "books"
   ]
  },
  {
   "cell_type": "code",
   "execution_count": 4,
   "id": "28c19203",
   "metadata": {},
   "outputs": [
    {
     "data": {
      "text/plain": [
       "{'harry potter': 12, 'wings of fire': 5, 'thirukural': 14}"
      ]
     },
     "execution_count": 4,
     "metadata": {},
     "output_type": "execute_result"
    }
   ],
   "source": [
    "books[\"thirukural\"]=14\n",
    "books"
   ]
  },
  {
   "cell_type": "code",
   "execution_count": 6,
   "id": "39d2abda",
   "metadata": {},
   "outputs": [
    {
     "data": {
      "text/plain": [
       "{'wings of fire': 5, 'thirukural': 14}"
      ]
     },
     "execution_count": 6,
     "metadata": {},
     "output_type": "execute_result"
    }
   ],
   "source": [
    "del books[\"harry potter\"]\n",
    "books"
   ]
  },
  {
   "cell_type": "code",
   "execution_count": 7,
   "id": "3049bf20",
   "metadata": {},
   "outputs": [
    {
     "data": {
      "text/plain": [
       "{'haha': 2, 'make': 1, 'laugh': 2, 'everyone': 1}"
      ]
     },
     "execution_count": 7,
     "metadata": {},
     "output_type": "execute_result"
    }
   ],
   "source": [
    "haha=\"haha make laugh haha everyone laugh\"\n",
    "word_count={}\n",
    "for word in haha.split():\n",
    "    if word not in word_count:\n",
    "        word_count[word]=1\n",
    "    else:\n",
    "        word_count[word]+=1\n",
    "word_count        "
   ]
  },
  {
   "cell_type": "code",
   "execution_count": 10,
   "id": "566438fa",
   "metadata": {},
   "outputs": [
    {
     "data": {
      "text/plain": [
       "defaultdict(int, {'haha': 2, 'make': 1, 'laugh': 2, 'everyone': 1})"
      ]
     },
     "execution_count": 10,
     "metadata": {},
     "output_type": "execute_result"
    }
   ],
   "source": [
    "from collections import defaultdict\n",
    "haha=\"haha make laugh haha everyone laugh\"\n",
    "word_count=defaultdict(int)\n",
    "for word in haha.split():\n",
    "    word_count[word]+=1\n",
    "word_count    "
   ]
  },
  {
   "cell_type": "code",
   "execution_count": 11,
   "id": "8c3d1fa5",
   "metadata": {},
   "outputs": [
    {
     "data": {
      "text/plain": [
       "2"
      ]
     },
     "execution_count": 11,
     "metadata": {},
     "output_type": "execute_result"
    }
   ],
   "source": [
    "books={\"harry potter\":12,\"wings of fire\":5}\n",
    "books\n",
    "len(books)"
   ]
  },
  {
   "cell_type": "code",
   "execution_count": 12,
   "id": "3a91a2b8",
   "metadata": {},
   "outputs": [
    {
     "data": {
      "text/plain": [
       "\"{'harry potter': 12, 'wings of fire': 5}\""
      ]
     },
     "execution_count": 12,
     "metadata": {},
     "output_type": "execute_result"
    }
   ],
   "source": [
    "str(books)"
   ]
  },
  {
   "cell_type": "code",
   "execution_count": 13,
   "id": "92691ad9",
   "metadata": {},
   "outputs": [
    {
     "data": {
      "text/plain": [
       "dict"
      ]
     },
     "execution_count": 13,
     "metadata": {},
     "output_type": "execute_result"
    }
   ],
   "source": [
    "type(books)"
   ]
  },
  {
   "cell_type": "code",
   "execution_count": 14,
   "id": "32cccdae",
   "metadata": {},
   "outputs": [
    {
     "data": {
      "text/plain": [
       "{}"
      ]
     },
     "execution_count": 14,
     "metadata": {},
     "output_type": "execute_result"
    }
   ],
   "source": [
    "books.clear()\n",
    "books"
   ]
  },
  {
   "cell_type": "code",
   "execution_count": 16,
   "id": "e3103bd5",
   "metadata": {},
   "outputs": [
    {
     "data": {
      "text/plain": [
       "{'harry potter': 12, 'wings of fire': 5}"
      ]
     },
     "execution_count": 16,
     "metadata": {},
     "output_type": "execute_result"
    }
   ],
   "source": [
    "books={\"harry potter\":12,\"wings of fire\":5}\n",
    "books1=books.copy()\n",
    "books"
   ]
  },
  {
   "cell_type": "code",
   "execution_count": 17,
   "id": "ada97c4d",
   "metadata": {},
   "outputs": [
    {
     "data": {
      "text/plain": [
       "dict_keys(['harry potter', 'wings of fire'])"
      ]
     },
     "execution_count": 17,
     "metadata": {},
     "output_type": "execute_result"
    }
   ],
   "source": [
    "books.keys()"
   ]
  },
  {
   "cell_type": "code",
   "execution_count": 18,
   "id": "f3ef809c",
   "metadata": {},
   "outputs": [
    {
     "data": {
      "text/plain": [
       "dict_values([12, 5])"
      ]
     },
     "execution_count": 18,
     "metadata": {},
     "output_type": "execute_result"
    }
   ],
   "source": [
    "books.values()"
   ]
  },
  {
   "cell_type": "code",
   "execution_count": 19,
   "id": "1f21f677",
   "metadata": {},
   "outputs": [
    {
     "data": {
      "text/plain": [
       "dict_items([('harry potter', 12), ('wings of fire', 5)])"
      ]
     },
     "execution_count": 19,
     "metadata": {},
     "output_type": "execute_result"
    }
   ],
   "source": [
    "books.items()"
   ]
  },
  {
   "cell_type": "code",
   "execution_count": 20,
   "id": "48026ca2",
   "metadata": {},
   "outputs": [
    {
     "data": {
      "text/plain": [
       "{'harry potter': 12, 'wings of fire': 5}"
      ]
     },
     "execution_count": 20,
     "metadata": {},
     "output_type": "execute_result"
    }
   ],
   "source": [
    "books={\"harry potter\":12,\"wings of fire\":5}\n",
    "books"
   ]
  },
  {
   "cell_type": "code",
   "execution_count": 21,
   "id": "147b54bc",
   "metadata": {},
   "outputs": [
    {
     "data": {
      "text/plain": [
       "{'harry potter': 10, 'wings of fire': 67}"
      ]
     },
     "execution_count": 21,
     "metadata": {},
     "output_type": "execute_result"
    }
   ],
   "source": [
    "books=[\"harry potter\",\"wings of fire\"]\n",
    "no=[10,67]\n",
    "dictionary=dict(zip(books,no))\n",
    "dictionary"
   ]
  },
  {
   "cell_type": "code",
   "execution_count": null,
   "id": "bc35cbde",
   "metadata": {},
   "outputs": [],
   "source": []
  }
 ],
 "metadata": {
  "kernelspec": {
   "display_name": "Python 3",
   "language": "python",
   "name": "python3"
  },
  "language_info": {
   "codemirror_mode": {
    "name": "ipython",
    "version": 3
   },
   "file_extension": ".py",
   "mimetype": "text/x-python",
   "name": "python",
   "nbconvert_exporter": "python",
   "pygments_lexer": "ipython3",
   "version": "3.8.8"
  }
 },
 "nbformat": 4,
 "nbformat_minor": 5
}
