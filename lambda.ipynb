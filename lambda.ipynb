{
 "cells": [
  {
   "cell_type": "markdown",
   "id": "e37baa92",
   "metadata": {},
   "source": [
    "# Lambda"
   ]
  },
  {
   "cell_type": "code",
   "execution_count": 10,
   "id": "67e10b41",
   "metadata": {},
   "outputs": [
    {
     "data": {
      "text/plain": [
       "5654"
      ]
     },
     "execution_count": 10,
     "metadata": {},
     "output_type": "execute_result"
    }
   ],
   "source": [
    "max = lambda n1,n2:n1 if n1>n2 else n2\n",
    "max(2135,5654)"
   ]
  },
  {
   "cell_type": "markdown",
   "id": "183ca98b",
   "metadata": {},
   "source": [
    "### lambda with map()"
   ]
  },
  {
   "cell_type": "code",
   "execution_count": 4,
   "id": "d7b36f9f",
   "metadata": {},
   "outputs": [
    {
     "data": {
      "text/plain": [
       "[1, 4, 9, 16, 25, 36, 49, 64, 81, 100, 121, 144, 169, 196, 225, 256, 289]"
      ]
     },
     "execution_count": 4,
     "metadata": {},
     "output_type": "execute_result"
    }
   ],
   "source": [
    "n=list(range(1,18))\n",
    "square_list=list(map(lambda x:x**2 ,n))\n",
    "square_list"
   ]
  },
  {
   "cell_type": "markdown",
   "id": "acbfc2e8",
   "metadata": {},
   "source": [
    "### lambda with filter()"
   ]
  },
  {
   "cell_type": "code",
   "execution_count": 6,
   "id": "252f1592",
   "metadata": {},
   "outputs": [
    {
     "data": {
      "text/plain": [
       "[5, 10, 15]"
      ]
     },
     "execution_count": 6,
     "metadata": {},
     "output_type": "execute_result"
    }
   ],
   "source": [
    "n=list(range(1,18))\n",
    "five_list=list(filter(lambda x:x %5==0 ,n))\n",
    "five_list"
   ]
  },
  {
   "cell_type": "markdown",
   "id": "9106d66b",
   "metadata": {},
   "source": [
    "### lambda with reduce()"
   ]
  },
  {
   "cell_type": "code",
   "execution_count": 8,
   "id": "505dde8f",
   "metadata": {},
   "outputs": [
    {
     "data": {
      "text/plain": [
       "18869760"
      ]
     },
     "execution_count": 8,
     "metadata": {},
     "output_type": "execute_result"
    }
   ],
   "source": [
    "from functools import reduce\n",
    "n=[1,2,3,4,5,6,7,8,9,52]\n",
    "reduce(lambda a,b:a*b,n)"
   ]
  },
  {
   "cell_type": "code",
   "execution_count": 9,
   "id": "3ea82fa1",
   "metadata": {},
   "outputs": [
    {
     "data": {
      "text/plain": [
       "1"
      ]
     },
     "execution_count": 9,
     "metadata": {},
     "output_type": "execute_result"
    }
   ],
   "source": [
    "from functools import reduce\n",
    "n=[1,2,3,4,5,6,7,8,9,52]\n",
    "reduce(lambda x,y:x if (x<y) else y,n)"
   ]
  },
  {
   "cell_type": "code",
   "execution_count": null,
   "id": "ccdecaf9",
   "metadata": {},
   "outputs": [],
   "source": []
  }
 ],
 "metadata": {
  "kernelspec": {
   "display_name": "Python 3",
   "language": "python",
   "name": "python3"
  },
  "language_info": {
   "codemirror_mode": {
    "name": "ipython",
    "version": 3
   },
   "file_extension": ".py",
   "mimetype": "text/x-python",
   "name": "python",
   "nbconvert_exporter": "python",
   "pygments_lexer": "ipython3",
   "version": "3.8.8"
  }
 },
 "nbformat": 4,
 "nbformat_minor": 5
}
