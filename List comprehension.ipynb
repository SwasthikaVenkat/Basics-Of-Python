{
 "cells": [
  {
   "cell_type": "markdown",
   "id": "1480f4d9",
   "metadata": {},
   "source": [
    "### For loop in list comprenhension"
   ]
  },
  {
   "cell_type": "code",
   "execution_count": 1,
   "id": "08f9e1da",
   "metadata": {},
   "outputs": [
    {
     "name": "stdout",
     "output_type": "stream",
     "text": [
      "[1, 4, 9, 16, 25, 36, 49, 64, 81, 100, 121]\n"
     ]
    }
   ],
   "source": [
    "num=[]\n",
    "for i in range(1,12):\n",
    "    num.append(i*i)\n",
    "print(num)    \n",
    "    "
   ]
  },
  {
   "cell_type": "markdown",
   "id": "aa6d28bb",
   "metadata": {},
   "source": [
    "### Reading 1st letter of each word in list"
   ]
  },
  {
   "cell_type": "code",
   "execution_count": 16,
   "id": "6c3bff25",
   "metadata": {},
   "outputs": [
    {
     "data": {
      "text/plain": [
       "['S', 'C', 'C', 'B', 'P', 'V']"
      ]
     },
     "execution_count": 16,
     "metadata": {},
     "output_type": "execute_result"
    }
   ],
   "source": [
    "milkshake =[\"Strawberry\",\"Chocolate\",\"Carrot\",\"Badam\",\"Pista\",\"Vanilla\"]\n",
    "first_letter=[v[0] for v in milkshake]\n",
    "first_letter"
   ]
  },
  {
   "cell_type": "markdown",
   "id": "326d074e",
   "metadata": {},
   "source": [
    "### extracting numbers"
   ]
  },
  {
   "cell_type": "code",
   "execution_count": 21,
   "id": "63ac939a",
   "metadata": {},
   "outputs": [
    {
     "data": {
      "text/plain": [
       "[10, 2]"
      ]
     },
     "execution_count": 21,
     "metadata": {},
     "output_type": "execute_result"
    }
   ],
   "source": [
    "txt=\"i have 10 rupees so i bought 2 cupcakes\"\n",
    "num=[int(i) for i in txt.split() if i.isdigit()== True]\n",
    "num"
   ]
  },
  {
   "cell_type": "markdown",
   "id": "3b106fdb",
   "metadata": {},
   "source": [
    "### extracting vowels"
   ]
  },
  {
   "cell_type": "code",
   "execution_count": 24,
   "id": "d4be7fab",
   "metadata": {},
   "outputs": [
    {
     "data": {
      "text/plain": [
       "['I', 'a', 'e', 'u', 'e', 'e', 'o', 'I', 'o', 'u', 'u', 'a', 'e']"
      ]
     },
     "execution_count": 24,
     "metadata": {},
     "output_type": "execute_result"
    }
   ],
   "source": [
    "txt=\"I have 10 rupees so I bought 2 cupcakes\"\n",
    "vowels=[vowel for vowel in txt if vowel in 'aeiouAEIOU']\n",
    "vowels"
   ]
  },
  {
   "cell_type": "markdown",
   "id": "32e5b91c",
   "metadata": {},
   "source": [
    "### Nested condition"
   ]
  },
  {
   "cell_type": "code",
   "execution_count": 26,
   "id": "d1f8633f",
   "metadata": {},
   "outputs": [
    {
     "data": {
      "text/plain": [
       "[20, 25, 22, 22]"
      ]
     },
     "execution_count": 26,
     "metadata": {},
     "output_type": "execute_result"
    }
   ],
   "source": [
    "milkshake =[\"Strawberry\",\"Chocolate\",\"Carrot\",\"Badam\"]\n",
    "price=[20 if p==\"Strawberry\" else 25 if p==\"Chocolate\"else 22 for p in milkshake]\n",
    "price"
   ]
  },
  {
   "cell_type": "code",
   "execution_count": null,
   "id": "fdd774e9",
   "metadata": {},
   "outputs": [],
   "source": []
  }
 ],
 "metadata": {
  "kernelspec": {
   "display_name": "Python 3",
   "language": "python",
   "name": "python3"
  },
  "language_info": {
   "codemirror_mode": {
    "name": "ipython",
    "version": 3
   },
   "file_extension": ".py",
   "mimetype": "text/x-python",
   "name": "python",
   "nbconvert_exporter": "python",
   "pygments_lexer": "ipython3",
   "version": "3.8.8"
  }
 },
 "nbformat": 4,
 "nbformat_minor": 5
}
