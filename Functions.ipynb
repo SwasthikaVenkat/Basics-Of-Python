{
 "cells": [
  {
   "cell_type": "markdown",
   "id": "9cd12014",
   "metadata": {},
   "source": [
    "### Function is a block of reusable code that runs when called "
   ]
  },
  {
   "cell_type": "code",
   "execution_count": 1,
   "id": "02bd74f9",
   "metadata": {},
   "outputs": [
    {
     "name": "stdout",
     "output_type": "stream",
     "text": [
      "Abdul Kalam wrote the book 'WINGS OF FIRE'\n"
     ]
    }
   ],
   "source": [
    "print(\"Abdul Kalam wrote the book 'WINGS OF FIRE'\")"
   ]
  },
  {
   "cell_type": "code",
   "execution_count": 4,
   "id": "4386c9bc",
   "metadata": {},
   "outputs": [
    {
     "data": {
      "text/plain": [
       "('kitkat', 'dairymilk')"
      ]
     },
     "execution_count": 4,
     "metadata": {},
     "output_type": "execute_result"
    }
   ],
   "source": [
    "choci=(\"kitkat\",\"dairymilk\")\n",
    "choci"
   ]
  },
  {
   "cell_type": "code",
   "execution_count": 3,
   "id": "3164e1fa",
   "metadata": {},
   "outputs": [
    {
     "name": "stdout",
     "output_type": "stream",
     "text": [
      "7.9\n"
     ]
    }
   ],
   "source": [
    "print(7.9)"
   ]
  },
  {
   "cell_type": "code",
   "execution_count": 10,
   "id": "8b5c3ed2",
   "metadata": {},
   "outputs": [
    {
     "name": "stdout",
     "output_type": "stream",
     "text": [
      "I am curious to learn Data Science,pyhton\n"
     ]
    }
   ],
   "source": [
    "print(\"I am curious to learn Data Science\",\"pyhton\",sep=\",\")"
   ]
  },
  {
   "cell_type": "code",
   "execution_count": 9,
   "id": "66e91d92",
   "metadata": {},
   "outputs": [
    {
     "name": "stdout",
     "output_type": "stream",
     "text": [
      "I am curious to learn Dta Science$python\n"
     ]
    }
   ],
   "source": [
    "print(\"I am curious to learn Dta Science\",\"python\",sep=\"$\")"
   ]
  },
  {
   "cell_type": "code",
   "execution_count": 15,
   "id": "c778e2cb",
   "metadata": {},
   "outputs": [
    {
     "name": "stdout",
     "output_type": "stream",
     "text": [
      "good\n",
      "\n",
      "\n",
      "day\n"
     ]
    }
   ],
   "source": [
    "print(\"good\")\n",
    "print(\"\\n\")\n",
    "print(\"day\")"
   ]
  },
  {
   "cell_type": "code",
   "execution_count": 16,
   "id": "6b5af766",
   "metadata": {},
   "outputs": [
    {
     "name": "stdout",
     "output_type": "stream",
     "text": [
      "good\n",
      "\t\n",
      "day\n"
     ]
    }
   ],
   "source": [
    "print(\"good\")\n",
    "print(\"\\t\")\n",
    "print(\"day\")"
   ]
  },
  {
   "cell_type": "code",
   "execution_count": 19,
   "id": "e1787a9d",
   "metadata": {},
   "outputs": [
    {
     "ename": "SyntaxError",
     "evalue": "invalid syntax (<ipython-input-19-69bffebd389e>, line 1)",
     "output_type": "error",
     "traceback": [
      "\u001b[1;36m  File \u001b[1;32m\"<ipython-input-19-69bffebd389e>\"\u001b[1;36m, line \u001b[1;32m1\u001b[0m\n\u001b[1;33m    print(\"Hi,This is Akash\"/s car\")\u001b[0m\n\u001b[1;37m                               ^\u001b[0m\n\u001b[1;31mSyntaxError\u001b[0m\u001b[1;31m:\u001b[0m invalid syntax\n"
     ]
    }
   ],
   "source": [
    "print(\"Hi,This is Akash\"/s car\")"
   ]
  },
  {
   "cell_type": "code",
   "execution_count": 20,
   "id": "8ffca900",
   "metadata": {},
   "outputs": [
    {
     "name": "stdout",
     "output_type": "stream",
     "text": [
      "i hada good day\n"
     ]
    }
   ],
   "source": [
    "print(\"i had\" + \"a good day\")"
   ]
  },
  {
   "cell_type": "code",
   "execution_count": 21,
   "id": "a050ba97",
   "metadata": {},
   "outputs": [
    {
     "ename": "TypeError",
     "evalue": "can only concatenate str (not \"int\") to str",
     "output_type": "error",
     "traceback": [
      "\u001b[1;31m---------------------------------------------------------------------------\u001b[0m",
      "\u001b[1;31mTypeError\u001b[0m                                 Traceback (most recent call last)",
      "\u001b[1;32m<ipython-input-21-0aeb90641a8d>\u001b[0m in \u001b[0;36m<module>\u001b[1;34m\u001b[0m\n\u001b[1;32m----> 1\u001b[1;33m \u001b[0mprint\u001b[0m\u001b[1;33m(\u001b[0m\u001b[1;34m\"i had\"\u001b[0m \u001b[1;33m+\u001b[0m \u001b[1;36m4\u001b[0m\u001b[1;33m)\u001b[0m\u001b[1;33m\u001b[0m\u001b[1;33m\u001b[0m\u001b[0m\n\u001b[0m",
      "\u001b[1;31mTypeError\u001b[0m: can only concatenate str (not \"int\") to str"
     ]
    }
   ],
   "source": [
    "print(\"i had\" + 4)"
   ]
  },
  {
   "cell_type": "code",
   "execution_count": 22,
   "id": "641f9d40",
   "metadata": {},
   "outputs": [
    {
     "ename": "TypeError",
     "evalue": "can only concatenate str (not \"int\") to str",
     "output_type": "error",
     "traceback": [
      "\u001b[1;31m---------------------------------------------------------------------------\u001b[0m",
      "\u001b[1;31mTypeError\u001b[0m                                 Traceback (most recent call last)",
      "\u001b[1;32m<ipython-input-22-37aee55edf99>\u001b[0m in \u001b[0;36m<module>\u001b[1;34m\u001b[0m\n\u001b[1;32m----> 1\u001b[1;33m \u001b[0mprint\u001b[0m\u001b[1;33m(\u001b[0m\u001b[1;34m\"i had\"\u001b[0m \u001b[1;33m+\u001b[0m \u001b[1;36m4\u001b[0m\u001b[1;33m)\u001b[0m\u001b[1;33m\u001b[0m\u001b[1;33m\u001b[0m\u001b[0m\n\u001b[0m\u001b[0;32m      2\u001b[0m \u001b[0mstr\u001b[0m\u001b[1;33m(\u001b[0m\u001b[1;36m4\u001b[0m\u001b[1;33m)\u001b[0m\u001b[1;33m\u001b[0m\u001b[1;33m\u001b[0m\u001b[0m\n",
      "\u001b[1;31mTypeError\u001b[0m: can only concatenate str (not \"int\") to str"
     ]
    }
   ],
   "source": [
    "print(\"i had\" + 4)\n",
    "str(4)\n"
   ]
  },
  {
   "cell_type": "code",
   "execution_count": 23,
   "id": "bc68b21b",
   "metadata": {},
   "outputs": [
    {
     "name": "stdout",
     "output_type": "stream",
     "text": [
      "i had4\n"
     ]
    }
   ],
   "source": [
    "print(\"i had\" + str(4))\n",
    "\n"
   ]
  },
  {
   "cell_type": "markdown",
   "id": "a4d97525",
   "metadata": {},
   "source": [
    "## using back slash"
   ]
  },
  {
   "cell_type": "code",
   "execution_count": 1,
   "id": "39a7bc5a",
   "metadata": {},
   "outputs": [
    {
     "name": "stdout",
     "output_type": "stream",
     "text": [
      "this is akash\" s car\n"
     ]
    }
   ],
   "source": [
    "print(\"this is akash\\\" s car\")"
   ]
  },
  {
   "cell_type": "code",
   "execution_count": null,
   "id": "3657586c",
   "metadata": {},
   "outputs": [],
   "source": []
  }
 ],
 "metadata": {
  "kernelspec": {
   "display_name": "Python 3",
   "language": "python",
   "name": "python3"
  },
  "language_info": {
   "codemirror_mode": {
    "name": "ipython",
    "version": 3
   },
   "file_extension": ".py",
   "mimetype": "text/x-python",
   "name": "python",
   "nbconvert_exporter": "python",
   "pygments_lexer": "ipython3",
   "version": "3.8.8"
  }
 },
 "nbformat": 4,
 "nbformat_minor": 5
}
